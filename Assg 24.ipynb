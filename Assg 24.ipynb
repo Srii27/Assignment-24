{
 "cells": [
  {
   "cell_type": "markdown",
   "id": "b68bf7ad",
   "metadata": {},
   "source": [
    "# ASSIGNMENT 24"
   ]
  },
  {
   "cell_type": "markdown",
   "id": "55d1e1a5",
   "metadata": {},
   "source": [
    "1. What is the relationship between def statements and lambda expressions ?\n"
   ]
  },
  {
   "cell_type": "markdown",
   "id": "b89fc880",
   "metadata": {},
   "source": [
    ">Ans: While the lambda expressions are anonymous the def statements should have a function name. The lambda expressions are single line statements and the def statement consists of a block of statements."
   ]
  },
  {
   "cell_type": "markdown",
   "id": "77d48cf5",
   "metadata": {},
   "source": [
    "2. What is the benefit of lambda?\n"
   ]
  },
  {
   "cell_type": "markdown",
   "id": "4a0ab48b",
   "metadata": {},
   "source": [
    ">Ans: The power of lambda is better shown when you use them as an anonymous function inside another function.\n",
    "\n",
    ">Say you have a function definition that takes one argument, and that argument will be multiplied with an unknown number:"
   ]
  },
  {
   "cell_type": "code",
   "execution_count": 1,
   "id": "dc0f1f01",
   "metadata": {},
   "outputs": [],
   "source": [
    "def func(n):\n",
    "    return lambda a: a*n"
   ]
  },
  {
   "cell_type": "markdown",
   "id": "1f135ca5",
   "metadata": {},
   "source": [
    "3. Compare and contrast map, filter, and reduce.\n"
   ]
  },
  {
   "cell_type": "markdown",
   "id": "045eab16",
   "metadata": {},
   "source": [
    ">Ans:map() function returns a map object(which is an iterator) of the results after applying the given function to each item of a given iterable (list, tuple etc.). The returned value from map() (map object) then can be passed to functions like list() (to create a list), set() (to create a set) .\n",
    "\n",
    ">Syntax :map(fun, iter)\n",
    "\n",
    ">The filter() method filters the given sequence with the help of a function that tests each element in the sequence to be true or not. \n",
    "\n",
    ">syntax: filter(function, sequence)\n",
    "\n",
    ">The reduce(fun,seq) function is used to apply a particular function passed in its argument to all of the list elements mentioned in the sequence passed along.This function is defined in “functools” module.\n",
    "\n"
   ]
  },
  {
   "cell_type": "markdown",
   "id": "c89d8a7b",
   "metadata": {},
   "source": [
    "4. What are function annotations, and how are they used?\n",
    "\n"
   ]
  },
  {
   "cell_type": "markdown",
   "id": "0bd1e4b4",
   "metadata": {},
   "source": [
    ">Ans:Function annotations are completely optional both for parameters and return value. Function annotations provide a way of associating various parts of a function with arbitrary python expressions at compile time.\n",
    "\n",
    ">Syntax of function annotations for simple parameters and for excess parameters respectively:\n",
    "\n",
    ">def foobar(a: expression, b: expression = 5):\n",
    "\n",
    ">def foobar(args: expression, kwargs: expression):"
   ]
  },
  {
   "cell_type": "markdown",
   "id": "e5040694",
   "metadata": {},
   "source": [
    "5. What are recursive functions, and how are they used?\n"
   ]
  },
  {
   "cell_type": "markdown",
   "id": "227f057f",
   "metadata": {},
   "source": [
    ">Ans: A recursive function is a function defined in terms of itself via self-referential expressions. This means that the function will continue to call itself and repeat its behavior until some condition is met to return a result.\n",
    "\n",
    ">In this example, tri_recursion() is a function that we have defined to call itself (\"recurse\"). We use the k variable as the data, which decrements (-1) every time we recurse. The recursion ends when the condition is not greater than 0 (i.e. when it is 0)."
   ]
  },
  {
   "cell_type": "code",
   "execution_count": 1,
   "id": "f221664e",
   "metadata": {},
   "outputs": [
    {
     "name": "stdout",
     "output_type": "stream",
     "text": [
      "Recursion Example Results\n",
      "1\n",
      "3\n",
      "6\n",
      "10\n",
      "15\n",
      "21\n"
     ]
    },
    {
     "data": {
      "text/plain": [
       "21"
      ]
     },
     "execution_count": 1,
     "metadata": {},
     "output_type": "execute_result"
    }
   ],
   "source": [
    "def tri_recursion(k):\n",
    "  if(k>0):\n",
    "    result = k+tri_recursion(k-1)\n",
    "    print(result)\n",
    "  else:\n",
    "    result = 0\n",
    "  return result\n",
    "\n",
    "print(\"Recursion Example Results\")\n",
    "tri_recursion(6)"
   ]
  },
  {
   "cell_type": "markdown",
   "id": "269b0e34",
   "metadata": {},
   "source": [
    "6. What are some general design guidelines for coding functions?\n"
   ]
  },
  {
   "cell_type": "markdown",
   "id": "ce3da774",
   "metadata": {},
   "source": [
    ">Ans: Using docstrings.\n",
    "\n",
    ">Use a tab for indentation.\n",
    "\n",
    ">Don't write more than 79 characters in a line.\n",
    "\n",
    ">Importing one module at a time.\n",
    "\n",
    ">Comment updating"
   ]
  },
  {
   "cell_type": "markdown",
   "id": "821d05bc",
   "metadata": {},
   "source": [
    "7. Name three or more ways that functions can communicate results to a caller.\n"
   ]
  },
  {
   "cell_type": "markdown",
   "id": "18949894",
   "metadata": {},
   "source": [
    ">Ans:To call a function, we specify the function name with the round brackets.\n",
    "\n",
    ">Use of return keyword inside function which returns the results to the caller.\n",
    "\n",
    ">Use of print statement inside function which prints the results to the caller."
   ]
  }
 ],
 "metadata": {
  "kernelspec": {
   "display_name": "Python 3 (ipykernel)",
   "language": "python",
   "name": "python3"
  },
  "language_info": {
   "codemirror_mode": {
    "name": "ipython",
    "version": 3
   },
   "file_extension": ".py",
   "mimetype": "text/x-python",
   "name": "python",
   "nbconvert_exporter": "python",
   "pygments_lexer": "ipython3",
   "version": "3.9.7"
  }
 },
 "nbformat": 4,
 "nbformat_minor": 5
}
